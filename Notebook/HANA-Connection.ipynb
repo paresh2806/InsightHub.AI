{
 "cells": [
  {
   "cell_type": "code",
   "execution_count": 6,
   "id": "d1a8a31d-360d-4ee6-90e4-99725bcb373d",
   "metadata": {},
   "outputs": [],
   "source": [
    "from hdbcli import dbapi\n",
    "\n",
    "# Define the database credentials\n",
    "HC = {\n",
    "    'endpoint': '9c272423-17ca-4bee-9c1f-6b46cc5d5340.hana.trial-us10.hanacloud.ondemand.com',\n",
    "    'port': 443,  # SAP HANA uses port 443 for SSL connections\n",
    "     \"user\": os.getenv('user'),\n",
    "    \"password\": os.getenv('password')\n",
    "}\n",
    "\n",
    "# Function to establish connection\n",
    "def get_connection():\n",
    "    address = HC['endpoint'] \n",
    "    port = HC['port']\n",
    "    user = HC['user']\n",
    "    password = HC['password']\n",
    "    \n",
    "    try:\n",
    "        conn = dbapi.connect(\n",
    "            address=address,\n",
    "            port=port,\n",
    "            user=user,\n",
    "            password=password,\n",
    "            encrypt=True,\n",
    "            sslValidateCertificate=False\n",
    "        )\n",
    "        print(\"Connection established\")\n",
    "        return conn\n",
    "    except dbapi.Error as err:\n",
    "        print(f\"Error: {err}\")\n",
    "        return None\n",
    "\n",
    "def execute_sql(sql):\n",
    "    print(sql)\n",
    "    conn = get_connection()\n",
    "    cursor = conn.cursor()\n",
    "    cursor.execute(sql)\n",
    "    rows = cursor.fetchall()\n",
    "    results = rows\n",
    "    cursor_descriptions = cursor.description\n",
    "    cursor.close()\n",
    "    conn.close()\n",
    "    return cursor_descriptions, results\n",
    "\n",
    "def db_query(sql, outputformat = 'raw'):\n",
    "    cursor_descriptions, rows = execute_sql(sql)\n",
    "    return format_data(rows, cursor_descriptions, outputformat)\n",
    "\n",
    "def format_data(rows, cursor_descriptions, output_format = 'raw'):\n",
    "    results = []\n",
    "    for row in rows:\n",
    "        result = {}\n",
    "        for index in range(len(row)):\n",
    "            result[cursor_descriptions[index][0]] = row[index]\n",
    "        results.append(result)\n",
    "    ret = results\n",
    "    if output_format == 'json':\n",
    "        ret = json.dumps(results, cls=JSONEncoder)\n",
    "    elif output_format == 'dataframe':\n",
    "        ret = pd.DataFrame(results)\n",
    "    return ret"
   ]
  },
  {
   "cell_type": "code",
   "execution_count": 19,
   "id": "55eb9e6b-1bf8-4046-9996-78e923412c60",
   "metadata": {},
   "outputs": [
    {
     "name": "stdout",
     "output_type": "stream",
     "text": [
      "SELECT * FROM M_TABLES WHERE TABLE_NAME = 'EmployeeHeadcount' AND SCHEMA_NAME = 'DATMOK';\n",
      "Connection established\n"
     ]
    }
   ],
   "source": [
    "# sql='''SELECT DISTINCT SCHEMA_NAME, TABLE_NAME, COLUMN_NAME, DATA_TYPE_NAME, LENGTH, SCALE FROM SYS.TABLE_COLUMNS WHERE SCHEMA_NAME = 'DATMOK';'''\n",
    "# sql='''SELECT TABLE_NAME FROM SYS.TABLES WHERE SCHEMA_NAME = 'DATMOK';'''\n",
    "# sql='''SELECT DepartmentID, COUNT(*) as \"Number of Satisfactory Performances\" FROM DATMOK.EmployeePerformance WHERE PERFORMANCE = 'Satisfactory' GROUP BY DepartmentID;'''\n",
    "sql='''SELECT * FROM M_TABLES WHERE TABLE_NAME = 'EmployeeHeadcount' AND SCHEMA_NAME = 'DATMOK';'''\n",
    "# sql='''SELECT COUNT(DISTINCT EmployeeID) AS NumberOfEmployeesFROM DATMOK.EmployeeHeadcount; '''\n",
    "result = db_query(sql, 'raw')"
   ]
  },
  {
   "cell_type": "code",
   "execution_count": 20,
   "id": "e7a287c5-4f77-4134-92a7-ad801cb65274",
   "metadata": {},
   "outputs": [
    {
     "data": {
      "text/plain": [
       "[{'SCHEMA_NAME': 'DATMOK',\n",
       "  'TABLE_NAME': 'EmployeeHeadcount',\n",
       "  'RECORD_COUNT': 1828,\n",
       "  'TABLE_SIZE': 1344,\n",
       "  'IS_COLUMN_TABLE': 'TRUE',\n",
       "  'TABLE_TYPE': 'COLUMN',\n",
       "  'IS_PARTITIONED': 'FALSE',\n",
       "  'IS_REPLICATED': 'FALSE',\n",
       "  'HAS_RECORD_COMMIT_TIMESTAMP': 'FALSE'}]"
      ]
     },
     "execution_count": 20,
     "metadata": {},
     "output_type": "execute_result"
    }
   ],
   "source": [
    "result"
   ]
  }
 ],
 "metadata": {
  "kernelspec": {
   "display_name": "Python 3 (ipykernel)",
   "language": "python",
   "name": "python3"
  },
  "language_info": {
   "codemirror_mode": {
    "name": "ipython",
    "version": 3
   },
   "file_extension": ".py",
   "mimetype": "text/x-python",
   "name": "python",
   "nbconvert_exporter": "python",
   "pygments_lexer": "ipython3",
   "version": "3.12.3"
  }
 },
 "nbformat": 4,
 "nbformat_minor": 5
}
